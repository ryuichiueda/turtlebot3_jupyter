{
 "cells": [
  {
   "cell_type": "code",
   "execution_count": 1,
   "metadata": {},
   "outputs": [
    {
     "name": "stdout",
     "output_type": "stream",
     "text": [
      "/rosoutをサブスクライブ\n",
      "受信\n",
      "Received '{\"op\": \"publish\", \"topic\": \"/rosout\", \"msg\": {\"header\": {\"seq\": 2, \"stamp\": {\"secs\": 0, \"nsecs\": 0}, \"frame_id\": \"\"}, \"level\": 2, \"name\": \"/rosapi\", \"msg\": \"Rosapi started\", \"file\": \"rosapi_node\", \"function\": \"<module>\", \"line\": 202, \"topics\": [\"/clock\", \"/rosout\"]}}'\n",
      "/cmd_velをパブリッシュ\n"
     ]
    }
   ],
   "source": [
    "import time\n",
    "\n",
    "ip = \"localhost\"\n",
    "port = 8000\n",
    "\n",
    "from websocket import create_connection\n",
    "\n",
    "ws = create_connection(\"ws://{}:{}\".format(ip, port) )\n",
    "print(\"/rosoutをサブスクライブ\")\n",
    "time.sleep(3)\n",
    "ws.send('{\"op\": \"subscribe\", \"topic\":\"/rosout\",\"type\":\"rosgraph_msgs/Log\"}')\n",
    "print(\"受信\")\n",
    "result =  ws.recv()\n",
    "print(\"Received '%s'\" % result)\n",
    "print(\"/cmd_velをパブリッシュ\")\n",
    "time.sleep(3)\n",
    "ws.send('{\"op\": \"publish\", \"topic\":\"/cmd_vel\",\"msg\":{\"linear\":{\"x\":0.1,\"y\":0,\"z\":0},\"angular\":{\"x\":0,\"y\":0,\"z\":0}},\"type\":\"geometry_msgs/Twist\"}')\n",
    "ws.close()"
   ]
  },
  {
   "cell_type": "code",
   "execution_count": null,
   "metadata": {},
   "outputs": [],
   "source": []
  }
 ],
 "metadata": {
  "kernelspec": {
   "display_name": "Python 3",
   "language": "python",
   "name": "python3"
  },
  "language_info": {
   "codemirror_mode": {
    "name": "ipython",
    "version": 3
   },
   "file_extension": ".py",
   "mimetype": "text/x-python",
   "name": "python",
   "nbconvert_exporter": "python",
   "pygments_lexer": "ipython3",
   "version": "3.8.10"
  }
 },
 "nbformat": 4,
 "nbformat_minor": 4
}
